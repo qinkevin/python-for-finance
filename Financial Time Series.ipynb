{
 "cells": [
  {
   "cell_type": "code",
   "execution_count": 1,
   "metadata": {
    "collapsed": true
   },
   "outputs": [],
   "source": [
    "import numpy as np\n",
    "import pandas as pd"
   ]
  },
  {
   "cell_type": "code",
   "execution_count": 2,
   "metadata": {
    "collapsed": false
   },
   "outputs": [
    {
     "data": {
      "text/plain": [
       "array([[-0.37921 , -0.301125, -1.07274 , -0.79445 ],\n",
       "       [ 0.388105,  0.658706,  2.429233, -0.45254 ],\n",
       "       [ 0.57807 , -0.769981, -0.462507,  0.041263],\n",
       "       [-1.201343,  1.379613, -0.655965,  0.530836],\n",
       "       [-0.279226, -1.285561,  2.042679,  0.368331],\n",
       "       [-0.666118, -0.355313,  1.68202 ,  0.584779],\n",
       "       [-0.241263,  0.034344, -0.893906,  0.658652],\n",
       "       [ 1.02897 , -0.448993,  0.808028, -0.08764 ],\n",
       "       [ 1.431947,  0.063107,  1.127096, -1.234944]])"
      ]
     },
     "execution_count": 2,
     "metadata": {},
     "output_type": "execute_result"
    }
   ],
   "source": [
    "a=np.random.standard_normal((9,4))\n",
    "a.round(6)"
   ]
  },
  {
   "cell_type": "code",
   "execution_count": 3,
   "metadata": {
    "collapsed": true
   },
   "outputs": [],
   "source": [
    "df=pd.DataFrame(a)"
   ]
  },
  {
   "cell_type": "code",
   "execution_count": 4,
   "metadata": {
    "collapsed": false
   },
   "outputs": [
    {
     "data": {
      "text/html": [
       "<div>\n",
       "<table border=\"1\" class=\"dataframe\">\n",
       "  <thead>\n",
       "    <tr style=\"text-align: right;\">\n",
       "      <th></th>\n",
       "      <th>0</th>\n",
       "      <th>1</th>\n",
       "      <th>2</th>\n",
       "      <th>3</th>\n",
       "    </tr>\n",
       "  </thead>\n",
       "  <tbody>\n",
       "    <tr>\n",
       "      <th>0</th>\n",
       "      <td>-0.379210</td>\n",
       "      <td>-0.301125</td>\n",
       "      <td>-1.072740</td>\n",
       "      <td>-0.794450</td>\n",
       "    </tr>\n",
       "    <tr>\n",
       "      <th>1</th>\n",
       "      <td>0.388105</td>\n",
       "      <td>0.658706</td>\n",
       "      <td>2.429233</td>\n",
       "      <td>-0.452540</td>\n",
       "    </tr>\n",
       "    <tr>\n",
       "      <th>2</th>\n",
       "      <td>0.578070</td>\n",
       "      <td>-0.769981</td>\n",
       "      <td>-0.462507</td>\n",
       "      <td>0.041263</td>\n",
       "    </tr>\n",
       "    <tr>\n",
       "      <th>3</th>\n",
       "      <td>-1.201343</td>\n",
       "      <td>1.379613</td>\n",
       "      <td>-0.655965</td>\n",
       "      <td>0.530836</td>\n",
       "    </tr>\n",
       "    <tr>\n",
       "      <th>4</th>\n",
       "      <td>-0.279226</td>\n",
       "      <td>-1.285561</td>\n",
       "      <td>2.042679</td>\n",
       "      <td>0.368331</td>\n",
       "    </tr>\n",
       "    <tr>\n",
       "      <th>5</th>\n",
       "      <td>-0.666118</td>\n",
       "      <td>-0.355313</td>\n",
       "      <td>1.682020</td>\n",
       "      <td>0.584779</td>\n",
       "    </tr>\n",
       "    <tr>\n",
       "      <th>6</th>\n",
       "      <td>-0.241263</td>\n",
       "      <td>0.034344</td>\n",
       "      <td>-0.893906</td>\n",
       "      <td>0.658652</td>\n",
       "    </tr>\n",
       "    <tr>\n",
       "      <th>7</th>\n",
       "      <td>1.028970</td>\n",
       "      <td>-0.448993</td>\n",
       "      <td>0.808028</td>\n",
       "      <td>-0.087640</td>\n",
       "    </tr>\n",
       "    <tr>\n",
       "      <th>8</th>\n",
       "      <td>1.431947</td>\n",
       "      <td>0.063107</td>\n",
       "      <td>1.127096</td>\n",
       "      <td>-1.234944</td>\n",
       "    </tr>\n",
       "  </tbody>\n",
       "</table>\n",
       "</div>"
      ],
      "text/plain": [
       "          0         1         2         3\n",
       "0 -0.379210 -0.301125 -1.072740 -0.794450\n",
       "1  0.388105  0.658706  2.429233 -0.452540\n",
       "2  0.578070 -0.769981 -0.462507  0.041263\n",
       "3 -1.201343  1.379613 -0.655965  0.530836\n",
       "4 -0.279226 -1.285561  2.042679  0.368331\n",
       "5 -0.666118 -0.355313  1.682020  0.584779\n",
       "6 -0.241263  0.034344 -0.893906  0.658652\n",
       "7  1.028970 -0.448993  0.808028 -0.087640\n",
       "8  1.431947  0.063107  1.127096 -1.234944"
      ]
     },
     "execution_count": 4,
     "metadata": {},
     "output_type": "execute_result"
    }
   ],
   "source": [
    "df"
   ]
  },
  {
   "cell_type": "code",
   "execution_count": 5,
   "metadata": {
    "collapsed": true
   },
   "outputs": [],
   "source": [
    "df.columns=[['No1','No2','No3','No4']]"
   ]
  },
  {
   "cell_type": "code",
   "execution_count": 6,
   "metadata": {
    "collapsed": false
   },
   "outputs": [
    {
     "data": {
      "text/html": [
       "<div>\n",
       "<table border=\"1\" class=\"dataframe\">\n",
       "  <thead>\n",
       "    <tr style=\"text-align: right;\">\n",
       "      <th></th>\n",
       "      <th>No1</th>\n",
       "      <th>No2</th>\n",
       "      <th>No3</th>\n",
       "      <th>No4</th>\n",
       "    </tr>\n",
       "  </thead>\n",
       "  <tbody>\n",
       "    <tr>\n",
       "      <th>0</th>\n",
       "      <td>-0.379210</td>\n",
       "      <td>-0.301125</td>\n",
       "      <td>-1.072740</td>\n",
       "      <td>-0.794450</td>\n",
       "    </tr>\n",
       "    <tr>\n",
       "      <th>1</th>\n",
       "      <td>0.388105</td>\n",
       "      <td>0.658706</td>\n",
       "      <td>2.429233</td>\n",
       "      <td>-0.452540</td>\n",
       "    </tr>\n",
       "    <tr>\n",
       "      <th>2</th>\n",
       "      <td>0.578070</td>\n",
       "      <td>-0.769981</td>\n",
       "      <td>-0.462507</td>\n",
       "      <td>0.041263</td>\n",
       "    </tr>\n",
       "    <tr>\n",
       "      <th>3</th>\n",
       "      <td>-1.201343</td>\n",
       "      <td>1.379613</td>\n",
       "      <td>-0.655965</td>\n",
       "      <td>0.530836</td>\n",
       "    </tr>\n",
       "    <tr>\n",
       "      <th>4</th>\n",
       "      <td>-0.279226</td>\n",
       "      <td>-1.285561</td>\n",
       "      <td>2.042679</td>\n",
       "      <td>0.368331</td>\n",
       "    </tr>\n",
       "    <tr>\n",
       "      <th>5</th>\n",
       "      <td>-0.666118</td>\n",
       "      <td>-0.355313</td>\n",
       "      <td>1.682020</td>\n",
       "      <td>0.584779</td>\n",
       "    </tr>\n",
       "    <tr>\n",
       "      <th>6</th>\n",
       "      <td>-0.241263</td>\n",
       "      <td>0.034344</td>\n",
       "      <td>-0.893906</td>\n",
       "      <td>0.658652</td>\n",
       "    </tr>\n",
       "    <tr>\n",
       "      <th>7</th>\n",
       "      <td>1.028970</td>\n",
       "      <td>-0.448993</td>\n",
       "      <td>0.808028</td>\n",
       "      <td>-0.087640</td>\n",
       "    </tr>\n",
       "    <tr>\n",
       "      <th>8</th>\n",
       "      <td>1.431947</td>\n",
       "      <td>0.063107</td>\n",
       "      <td>1.127096</td>\n",
       "      <td>-1.234944</td>\n",
       "    </tr>\n",
       "  </tbody>\n",
       "</table>\n",
       "</div>"
      ],
      "text/plain": [
       "        No1       No2       No3       No4\n",
       "0 -0.379210 -0.301125 -1.072740 -0.794450\n",
       "1  0.388105  0.658706  2.429233 -0.452540\n",
       "2  0.578070 -0.769981 -0.462507  0.041263\n",
       "3 -1.201343  1.379613 -0.655965  0.530836\n",
       "4 -0.279226 -1.285561  2.042679  0.368331\n",
       "5 -0.666118 -0.355313  1.682020  0.584779\n",
       "6 -0.241263  0.034344 -0.893906  0.658652\n",
       "7  1.028970 -0.448993  0.808028 -0.087640\n",
       "8  1.431947  0.063107  1.127096 -1.234944"
      ]
     },
     "execution_count": 6,
     "metadata": {},
     "output_type": "execute_result"
    }
   ],
   "source": [
    "df"
   ]
  },
  {
   "cell_type": "code",
   "execution_count": 7,
   "metadata": {
    "collapsed": false
   },
   "outputs": [
    {
     "data": {
      "text/plain": [
       "1.3796125006717246"
      ]
     },
     "execution_count": 7,
     "metadata": {},
     "output_type": "execute_result"
    }
   ],
   "source": [
    "df['No2'][3]"
   ]
  },
  {
   "cell_type": "code",
   "execution_count": 8,
   "metadata": {
    "collapsed": true
   },
   "outputs": [],
   "source": [
    "dates=pd.date_range('2015-1-1',periods=9,freq='M')"
   ]
  },
  {
   "cell_type": "code",
   "execution_count": 9,
   "metadata": {
    "collapsed": false
   },
   "outputs": [
    {
     "data": {
      "text/plain": [
       "DatetimeIndex(['2015-01-31', '2015-02-28', '2015-03-31', '2015-04-30',\n",
       "               '2015-05-31', '2015-06-30', '2015-07-31', '2015-08-31',\n",
       "               '2015-09-30'],\n",
       "              dtype='datetime64[ns]', freq='M')"
      ]
     },
     "execution_count": 9,
     "metadata": {},
     "output_type": "execute_result"
    }
   ],
   "source": [
    "dates"
   ]
  },
  {
   "cell_type": "code",
   "execution_count": 10,
   "metadata": {
    "collapsed": true
   },
   "outputs": [],
   "source": [
    "df.index=dates"
   ]
  },
  {
   "cell_type": "code",
   "execution_count": 11,
   "metadata": {
    "collapsed": false
   },
   "outputs": [
    {
     "data": {
      "text/html": [
       "<div>\n",
       "<table border=\"1\" class=\"dataframe\">\n",
       "  <thead>\n",
       "    <tr style=\"text-align: right;\">\n",
       "      <th></th>\n",
       "      <th>No1</th>\n",
       "      <th>No2</th>\n",
       "      <th>No3</th>\n",
       "      <th>No4</th>\n",
       "    </tr>\n",
       "  </thead>\n",
       "  <tbody>\n",
       "    <tr>\n",
       "      <th>2015-01-31</th>\n",
       "      <td>-0.379210</td>\n",
       "      <td>-0.301125</td>\n",
       "      <td>-1.072740</td>\n",
       "      <td>-0.794450</td>\n",
       "    </tr>\n",
       "    <tr>\n",
       "      <th>2015-02-28</th>\n",
       "      <td>0.388105</td>\n",
       "      <td>0.658706</td>\n",
       "      <td>2.429233</td>\n",
       "      <td>-0.452540</td>\n",
       "    </tr>\n",
       "    <tr>\n",
       "      <th>2015-03-31</th>\n",
       "      <td>0.578070</td>\n",
       "      <td>-0.769981</td>\n",
       "      <td>-0.462507</td>\n",
       "      <td>0.041263</td>\n",
       "    </tr>\n",
       "    <tr>\n",
       "      <th>2015-04-30</th>\n",
       "      <td>-1.201343</td>\n",
       "      <td>1.379613</td>\n",
       "      <td>-0.655965</td>\n",
       "      <td>0.530836</td>\n",
       "    </tr>\n",
       "    <tr>\n",
       "      <th>2015-05-31</th>\n",
       "      <td>-0.279226</td>\n",
       "      <td>-1.285561</td>\n",
       "      <td>2.042679</td>\n",
       "      <td>0.368331</td>\n",
       "    </tr>\n",
       "    <tr>\n",
       "      <th>2015-06-30</th>\n",
       "      <td>-0.666118</td>\n",
       "      <td>-0.355313</td>\n",
       "      <td>1.682020</td>\n",
       "      <td>0.584779</td>\n",
       "    </tr>\n",
       "    <tr>\n",
       "      <th>2015-07-31</th>\n",
       "      <td>-0.241263</td>\n",
       "      <td>0.034344</td>\n",
       "      <td>-0.893906</td>\n",
       "      <td>0.658652</td>\n",
       "    </tr>\n",
       "    <tr>\n",
       "      <th>2015-08-31</th>\n",
       "      <td>1.028970</td>\n",
       "      <td>-0.448993</td>\n",
       "      <td>0.808028</td>\n",
       "      <td>-0.087640</td>\n",
       "    </tr>\n",
       "    <tr>\n",
       "      <th>2015-09-30</th>\n",
       "      <td>1.431947</td>\n",
       "      <td>0.063107</td>\n",
       "      <td>1.127096</td>\n",
       "      <td>-1.234944</td>\n",
       "    </tr>\n",
       "  </tbody>\n",
       "</table>\n",
       "</div>"
      ],
      "text/plain": [
       "                 No1       No2       No3       No4\n",
       "2015-01-31 -0.379210 -0.301125 -1.072740 -0.794450\n",
       "2015-02-28  0.388105  0.658706  2.429233 -0.452540\n",
       "2015-03-31  0.578070 -0.769981 -0.462507  0.041263\n",
       "2015-04-30 -1.201343  1.379613 -0.655965  0.530836\n",
       "2015-05-31 -0.279226 -1.285561  2.042679  0.368331\n",
       "2015-06-30 -0.666118 -0.355313  1.682020  0.584779\n",
       "2015-07-31 -0.241263  0.034344 -0.893906  0.658652\n",
       "2015-08-31  1.028970 -0.448993  0.808028 -0.087640\n",
       "2015-09-30  1.431947  0.063107  1.127096 -1.234944"
      ]
     },
     "execution_count": 11,
     "metadata": {},
     "output_type": "execute_result"
    }
   ],
   "source": [
    "df"
   ]
  },
  {
   "cell_type": "code",
   "execution_count": 12,
   "metadata": {
    "collapsed": false
   },
   "outputs": [
    {
     "data": {
      "text/plain": [
       "No1    0.659932\n",
       "No2   -1.025204\n",
       "No3    5.003940\n",
       "No4   -0.385712\n",
       "dtype: float64"
      ]
     },
     "execution_count": 12,
     "metadata": {},
     "output_type": "execute_result"
    }
   ],
   "source": [
    "df.sum()"
   ]
  },
  {
   "cell_type": "code",
   "execution_count": 13,
   "metadata": {
    "collapsed": false
   },
   "outputs": [
    {
     "data": {
      "text/html": [
       "<div>\n",
       "<table border=\"1\" class=\"dataframe\">\n",
       "  <thead>\n",
       "    <tr style=\"text-align: right;\">\n",
       "      <th></th>\n",
       "      <th>No1</th>\n",
       "      <th>No2</th>\n",
       "      <th>No3</th>\n",
       "      <th>No4</th>\n",
       "    </tr>\n",
       "  </thead>\n",
       "  <tbody>\n",
       "    <tr>\n",
       "      <th>count</th>\n",
       "      <td>9.000000</td>\n",
       "      <td>9.000000</td>\n",
       "      <td>9.000000</td>\n",
       "      <td>9.000000</td>\n",
       "    </tr>\n",
       "    <tr>\n",
       "      <th>mean</th>\n",
       "      <td>0.073326</td>\n",
       "      <td>-0.113912</td>\n",
       "      <td>0.555993</td>\n",
       "      <td>-0.042857</td>\n",
       "    </tr>\n",
       "    <tr>\n",
       "      <th>std</th>\n",
       "      <td>0.845027</td>\n",
       "      <td>0.781798</td>\n",
       "      <td>1.352685</td>\n",
       "      <td>0.665876</td>\n",
       "    </tr>\n",
       "    <tr>\n",
       "      <th>min</th>\n",
       "      <td>-1.201343</td>\n",
       "      <td>-1.285561</td>\n",
       "      <td>-1.072740</td>\n",
       "      <td>-1.234944</td>\n",
       "    </tr>\n",
       "    <tr>\n",
       "      <th>25%</th>\n",
       "      <td>-0.379210</td>\n",
       "      <td>-0.448993</td>\n",
       "      <td>-0.655965</td>\n",
       "      <td>-0.452540</td>\n",
       "    </tr>\n",
       "    <tr>\n",
       "      <th>50%</th>\n",
       "      <td>-0.241263</td>\n",
       "      <td>-0.301125</td>\n",
       "      <td>0.808028</td>\n",
       "      <td>0.041263</td>\n",
       "    </tr>\n",
       "    <tr>\n",
       "      <th>75%</th>\n",
       "      <td>0.578070</td>\n",
       "      <td>0.063107</td>\n",
       "      <td>1.682020</td>\n",
       "      <td>0.530836</td>\n",
       "    </tr>\n",
       "    <tr>\n",
       "      <th>max</th>\n",
       "      <td>1.431947</td>\n",
       "      <td>1.379613</td>\n",
       "      <td>2.429233</td>\n",
       "      <td>0.658652</td>\n",
       "    </tr>\n",
       "  </tbody>\n",
       "</table>\n",
       "</div>"
      ],
      "text/plain": [
       "            No1       No2       No3       No4\n",
       "count  9.000000  9.000000  9.000000  9.000000\n",
       "mean   0.073326 -0.113912  0.555993 -0.042857\n",
       "std    0.845027  0.781798  1.352685  0.665876\n",
       "min   -1.201343 -1.285561 -1.072740 -1.234944\n",
       "25%   -0.379210 -0.448993 -0.655965 -0.452540\n",
       "50%   -0.241263 -0.301125  0.808028  0.041263\n",
       "75%    0.578070  0.063107  1.682020  0.530836\n",
       "max    1.431947  1.379613  2.429233  0.658652"
      ]
     },
     "execution_count": 13,
     "metadata": {},
     "output_type": "execute_result"
    }
   ],
   "source": [
    "df.describe()"
   ]
  },
  {
   "cell_type": "code",
   "execution_count": 14,
   "metadata": {
    "collapsed": true
   },
   "outputs": [],
   "source": [
    "%matplotlib inline"
   ]
  },
  {
   "cell_type": "code",
   "execution_count": 15,
   "metadata": {
    "collapsed": false
   },
   "outputs": [
    {
     "data": {
      "text/plain": [
       "<matplotlib.axes._subplots.AxesSubplot at 0x112647c10>"
      ]
     },
     "execution_count": 15,
     "metadata": {},
     "output_type": "execute_result"
    },
    {
     "data": {
      "image/png": "[encoded data removed]",
      "text/plain": [
       "<matplotlib.figure.Figure at 0x112647450>"
      ]
     },
     "metadata": {},
     "output_type": "display_data"
    }
   ],
   "source": [
    "df.cumsum().plot(lw=2.0)"
   ]
  },
  {
   "cell_type": "code",
   "execution_count": 16,
   "metadata": {
    "collapsed": true
   },
   "outputs": [],
   "source": [
    "df['Quarter']=['Q1','Q1','Q1','Q2','Q2','Q2','Q3','Q3','Q3']"
   ]
  },
  {
   "cell_type": "code",
   "execution_count": 17,
   "metadata": {
    "collapsed": false
   },
   "outputs": [
    {
     "data": {
      "text/html": [
       "<div>\n",
       "<table border=\"1\" class=\"dataframe\">\n",
       "  <thead>\n",
       "    <tr style=\"text-align: right;\">\n",
       "      <th></th>\n",
       "      <th>No1</th>\n",
       "      <th>No2</th>\n",
       "      <th>No3</th>\n",
       "      <th>No4</th>\n",
       "      <th>Quarter</th>\n",
       "    </tr>\n",
       "  </thead>\n",
       "  <tbody>\n",
       "    <tr>\n",
       "      <th>2015-01-31</th>\n",
       "      <td>-0.379210</td>\n",
       "      <td>-0.301125</td>\n",
       "      <td>-1.072740</td>\n",
       "      <td>-0.794450</td>\n",
       "      <td>Q1</td>\n",
       "    </tr>\n",
       "    <tr>\n",
       "      <th>2015-02-28</th>\n",
       "      <td>0.388105</td>\n",
       "      <td>0.658706</td>\n",
       "      <td>2.429233</td>\n",
       "      <td>-0.452540</td>\n",
       "      <td>Q1</td>\n",
       "    </tr>\n",
       "    <tr>\n",
       "      <th>2015-03-31</th>\n",
       "      <td>0.578070</td>\n",
       "      <td>-0.769981</td>\n",
       "      <td>-0.462507</td>\n",
       "      <td>0.041263</td>\n",
       "      <td>Q1</td>\n",
       "    </tr>\n",
       "    <tr>\n",
       "      <th>2015-04-30</th>\n",
       "      <td>-1.201343</td>\n",
       "      <td>1.379613</td>\n",
       "      <td>-0.655965</td>\n",
       "      <td>0.530836</td>\n",
       "      <td>Q2</td>\n",
       "    </tr>\n",
       "    <tr>\n",
       "      <th>2015-05-31</th>\n",
       "      <td>-0.279226</td>\n",
       "      <td>-1.285561</td>\n",
       "      <td>2.042679</td>\n",
       "      <td>0.368331</td>\n",
       "      <td>Q2</td>\n",
       "    </tr>\n",
       "    <tr>\n",
       "      <th>2015-06-30</th>\n",
       "      <td>-0.666118</td>\n",
       "      <td>-0.355313</td>\n",
       "      <td>1.682020</td>\n",
       "      <td>0.584779</td>\n",
       "      <td>Q2</td>\n",
       "    </tr>\n",
       "    <tr>\n",
       "      <th>2015-07-31</th>\n",
       "      <td>-0.241263</td>\n",
       "      <td>0.034344</td>\n",
       "      <td>-0.893906</td>\n",
       "      <td>0.658652</td>\n",
       "      <td>Q3</td>\n",
       "    </tr>\n",
       "    <tr>\n",
       "      <th>2015-08-31</th>\n",
       "      <td>1.028970</td>\n",
       "      <td>-0.448993</td>\n",
       "      <td>0.808028</td>\n",
       "      <td>-0.087640</td>\n",
       "      <td>Q3</td>\n",
       "    </tr>\n",
       "    <tr>\n",
       "      <th>2015-09-30</th>\n",
       "      <td>1.431947</td>\n",
       "      <td>0.063107</td>\n",
       "      <td>1.127096</td>\n",
       "      <td>-1.234944</td>\n",
       "      <td>Q3</td>\n",
       "    </tr>\n",
       "  </tbody>\n",
       "</table>\n",
       "</div>"
      ],
      "text/plain": [
       "                 No1       No2       No3       No4 Quarter\n",
       "2015-01-31 -0.379210 -0.301125 -1.072740 -0.794450      Q1\n",
       "2015-02-28  0.388105  0.658706  2.429233 -0.452540      Q1\n",
       "2015-03-31  0.578070 -0.769981 -0.462507  0.041263      Q1\n",
       "2015-04-30 -1.201343  1.379613 -0.655965  0.530836      Q2\n",
       "2015-05-31 -0.279226 -1.285561  2.042679  0.368331      Q2\n",
       "2015-06-30 -0.666118 -0.355313  1.682020  0.584779      Q2\n",
       "2015-07-31 -0.241263  0.034344 -0.893906  0.658652      Q3\n",
       "2015-08-31  1.028970 -0.448993  0.808028 -0.087640      Q3\n",
       "2015-09-30  1.431947  0.063107  1.127096 -1.234944      Q3"
      ]
     },
     "execution_count": 17,
     "metadata": {},
     "output_type": "execute_result"
    }
   ],
   "source": [
    "df"
   ]
  },
  {
   "cell_type": "code",
   "execution_count": 18,
   "metadata": {
    "collapsed": true
   },
   "outputs": [],
   "source": [
    "groups=df.groupby('Quarter')"
   ]
  },
  {
   "cell_type": "code",
   "execution_count": 19,
   "metadata": {
    "collapsed": false
   },
   "outputs": [
    {
     "data": {
      "text/html": [
       "<div>\n",
       "<table border=\"1\" class=\"dataframe\">\n",
       "  <thead>\n",
       "    <tr style=\"text-align: right;\">\n",
       "      <th></th>\n",
       "      <th>No1</th>\n",
       "      <th>No2</th>\n",
       "      <th>No3</th>\n",
       "      <th>No4</th>\n",
       "    </tr>\n",
       "    <tr>\n",
       "      <th>Quarter</th>\n",
       "      <th></th>\n",
       "      <th></th>\n",
       "      <th></th>\n",
       "      <th></th>\n",
       "    </tr>\n",
       "  </thead>\n",
       "  <tbody>\n",
       "    <tr>\n",
       "      <th>Q1</th>\n",
       "      <td>0.195655</td>\n",
       "      <td>-0.137467</td>\n",
       "      <td>0.297996</td>\n",
       "      <td>-0.401909</td>\n",
       "    </tr>\n",
       "    <tr>\n",
       "      <th>Q2</th>\n",
       "      <td>-0.715562</td>\n",
       "      <td>-0.087087</td>\n",
       "      <td>1.022911</td>\n",
       "      <td>0.494649</td>\n",
       "    </tr>\n",
       "    <tr>\n",
       "      <th>Q3</th>\n",
       "      <td>0.739885</td>\n",
       "      <td>-0.117181</td>\n",
       "      <td>0.347073</td>\n",
       "      <td>-0.221310</td>\n",
       "    </tr>\n",
       "  </tbody>\n",
       "</table>\n",
       "</div>"
      ],
      "text/plain": [
       "              No1       No2       No3       No4\n",
       "Quarter                                        \n",
       "Q1       0.195655 -0.137467  0.297996 -0.401909\n",
       "Q2      -0.715562 -0.087087  1.022911  0.494649\n",
       "Q3       0.739885 -0.117181  0.347073 -0.221310"
      ]
     },
     "execution_count": 19,
     "metadata": {},
     "output_type": "execute_result"
    }
   ],
   "source": [
    "groups.mean()"
   ]
  },
  {
   "cell_type": "code",
   "execution_count": 20,
   "metadata": {
    "collapsed": false
   },
   "outputs": [
    {
     "data": {
      "text/html": [
       "<div>\n",
       "<table border=\"1\" class=\"dataframe\">\n",
       "  <thead>\n",
       "    <tr style=\"text-align: right;\">\n",
       "      <th></th>\n",
       "      <th>No1</th>\n",
       "      <th>No2</th>\n",
       "      <th>No3</th>\n",
       "      <th>No4</th>\n",
       "    </tr>\n",
       "    <tr>\n",
       "      <th>Quarter</th>\n",
       "      <th></th>\n",
       "      <th></th>\n",
       "      <th></th>\n",
       "      <th></th>\n",
       "    </tr>\n",
       "  </thead>\n",
       "  <tbody>\n",
       "    <tr>\n",
       "      <th>Q1</th>\n",
       "      <td>0.578070</td>\n",
       "      <td>0.658706</td>\n",
       "      <td>2.429233</td>\n",
       "      <td>0.041263</td>\n",
       "    </tr>\n",
       "    <tr>\n",
       "      <th>Q2</th>\n",
       "      <td>-0.279226</td>\n",
       "      <td>1.379613</td>\n",
       "      <td>2.042679</td>\n",
       "      <td>0.584779</td>\n",
       "    </tr>\n",
       "    <tr>\n",
       "      <th>Q3</th>\n",
       "      <td>1.431947</td>\n",
       "      <td>0.063107</td>\n",
       "      <td>1.127096</td>\n",
       "      <td>0.658652</td>\n",
       "    </tr>\n",
       "  </tbody>\n",
       "</table>\n",
       "</div>"
      ],
      "text/plain": [
       "              No1       No2       No3       No4\n",
       "Quarter                                        \n",
       "Q1       0.578070  0.658706  2.429233  0.041263\n",
       "Q2      -0.279226  1.379613  2.042679  0.584779\n",
       "Q3       1.431947  0.063107  1.127096  0.658652"
      ]
     },
     "execution_count": 20,
     "metadata": {},
     "output_type": "execute_result"
    }
   ],
   "source": [
    "groups.max()"
   ]
  },
  {
   "cell_type": "code",
   "execution_count": 21,
   "metadata": {
    "collapsed": false
   },
   "outputs": [
    {
     "data": {
      "text/plain": [
       "Quarter\n",
       "Q1    3\n",
       "Q2    3\n",
       "Q3    3\n",
       "dtype: int64"
      ]
     },
     "execution_count": 21,
     "metadata": {},
     "output_type": "execute_result"
    }
   ],
   "source": [
    "groups.size()"
   ]
  },
  {
   "cell_type": "code",
   "execution_count": 23,
   "metadata": {
    "collapsed": false
   },
   "outputs": [],
   "source": [
    "df['Odd_Even'] = ['Odd', 'Even', 'Odd', 'Even', 'Odd', 'Even', 'Odd', 'Even', 'Odd']"
   ]
  },
  {
   "cell_type": "code",
   "execution_count": 24,
   "metadata": {
    "collapsed": false
   },
   "outputs": [
    {
     "data": {
      "text/html": [
       "<div>\n",
       "<table border=\"1\" class=\"dataframe\">\n",
       "  <thead>\n",
       "    <tr style=\"text-align: right;\">\n",
       "      <th></th>\n",
       "      <th>No1</th>\n",
       "      <th>No2</th>\n",
       "      <th>No3</th>\n",
       "      <th>No4</th>\n",
       "      <th>Quarter</th>\n",
       "      <th>Odd_Even</th>\n",
       "    </tr>\n",
       "  </thead>\n",
       "  <tbody>\n",
       "    <tr>\n",
       "      <th>2015-01-31</th>\n",
       "      <td>-0.379210</td>\n",
       "      <td>-0.301125</td>\n",
       "      <td>-1.072740</td>\n",
       "      <td>-0.794450</td>\n",
       "      <td>Q1</td>\n",
       "      <td>Odd</td>\n",
       "    </tr>\n",
       "    <tr>\n",
       "      <th>2015-02-28</th>\n",
       "      <td>0.388105</td>\n",
       "      <td>0.658706</td>\n",
       "      <td>2.429233</td>\n",
       "      <td>-0.452540</td>\n",
       "      <td>Q1</td>\n",
       "      <td>Even</td>\n",
       "    </tr>\n",
       "    <tr>\n",
       "      <th>2015-03-31</th>\n",
       "      <td>0.578070</td>\n",
       "      <td>-0.769981</td>\n",
       "      <td>-0.462507</td>\n",
       "      <td>0.041263</td>\n",
       "      <td>Q1</td>\n",
       "      <td>Odd</td>\n",
       "    </tr>\n",
       "    <tr>\n",
       "      <th>2015-04-30</th>\n",
       "      <td>-1.201343</td>\n",
       "      <td>1.379613</td>\n",
       "      <td>-0.655965</td>\n",
       "      <td>0.530836</td>\n",
       "      <td>Q2</td>\n",
       "      <td>Even</td>\n",
       "    </tr>\n",
       "    <tr>\n",
       "      <th>2015-05-31</th>\n",
       "      <td>-0.279226</td>\n",
       "      <td>-1.285561</td>\n",
       "      <td>2.042679</td>\n",
       "      <td>0.368331</td>\n",
       "      <td>Q2</td>\n",
       "      <td>Odd</td>\n",
       "    </tr>\n",
       "    <tr>\n",
       "      <th>2015-06-30</th>\n",
       "      <td>-0.666118</td>\n",
       "      <td>-0.355313</td>\n",
       "      <td>1.682020</td>\n",
       "      <td>0.584779</td>\n",
       "      <td>Q2</td>\n",
       "      <td>Even</td>\n",
       "    </tr>\n",
       "    <tr>\n",
       "      <th>2015-07-31</th>\n",
       "      <td>-0.241263</td>\n",
       "      <td>0.034344</td>\n",
       "      <td>-0.893906</td>\n",
       "      <td>0.658652</td>\n",
       "      <td>Q3</td>\n",
       "      <td>Odd</td>\n",
       "    </tr>\n",
       "    <tr>\n",
       "      <th>2015-08-31</th>\n",
       "      <td>1.028970</td>\n",
       "      <td>-0.448993</td>\n",
       "      <td>0.808028</td>\n",
       "      <td>-0.087640</td>\n",
       "      <td>Q3</td>\n",
       "      <td>Even</td>\n",
       "    </tr>\n",
       "    <tr>\n",
       "      <th>2015-09-30</th>\n",
       "      <td>1.431947</td>\n",
       "      <td>0.063107</td>\n",
       "      <td>1.127096</td>\n",
       "      <td>-1.234944</td>\n",
       "      <td>Q3</td>\n",
       "      <td>Odd</td>\n",
       "    </tr>\n",
       "  </tbody>\n",
       "</table>\n",
       "</div>"
      ],
      "text/plain": [
       "                 No1       No2       No3       No4 Quarter Odd_Even\n",
       "2015-01-31 -0.379210 -0.301125 -1.072740 -0.794450      Q1      Odd\n",
       "2015-02-28  0.388105  0.658706  2.429233 -0.452540      Q1     Even\n",
       "2015-03-31  0.578070 -0.769981 -0.462507  0.041263      Q1      Odd\n",
       "2015-04-30 -1.201343  1.379613 -0.655965  0.530836      Q2     Even\n",
       "2015-05-31 -0.279226 -1.285561  2.042679  0.368331      Q2      Odd\n",
       "2015-06-30 -0.666118 -0.355313  1.682020  0.584779      Q2     Even\n",
       "2015-07-31 -0.241263  0.034344 -0.893906  0.658652      Q3      Odd\n",
       "2015-08-31  1.028970 -0.448993  0.808028 -0.087640      Q3     Even\n",
       "2015-09-30  1.431947  0.063107  1.127096 -1.234944      Q3      Odd"
      ]
     },
     "execution_count": 24,
     "metadata": {},
     "output_type": "execute_result"
    }
   ],
   "source": [
    "df"
   ]
  },
  {
   "cell_type": "code",
   "execution_count": 25,
   "metadata": {
    "collapsed": true
   },
   "outputs": [],
   "source": [
    "groups=df.groupby(['Quarter','Odd_Even'])"
   ]
  },
  {
   "cell_type": "code",
   "execution_count": 26,
   "metadata": {
    "collapsed": false
   },
   "outputs": [
    {
     "data": {
      "text/plain": [
       "Quarter  Odd_Even\n",
       "Q1       Even        1\n",
       "         Odd         2\n",
       "Q2       Even        2\n",
       "         Odd         1\n",
       "Q3       Even        1\n",
       "         Odd         2\n",
       "dtype: int64"
      ]
     },
     "execution_count": 26,
     "metadata": {},
     "output_type": "execute_result"
    }
   ],
   "source": [
    "groups.size()"
   ]
  },
  {
   "cell_type": "code",
   "execution_count": 27,
   "metadata": {
    "collapsed": false
   },
   "outputs": [
    {
     "data": {
      "text/html": [
       "<div>\n",
       "<table border=\"1\" class=\"dataframe\">\n",
       "  <thead>\n",
       "    <tr style=\"text-align: right;\">\n",
       "      <th></th>\n",
       "      <th></th>\n",
       "      <th>No1</th>\n",
       "      <th>No2</th>\n",
       "      <th>No3</th>\n",
       "      <th>No4</th>\n",
       "    </tr>\n",
       "    <tr>\n",
       "      <th>Quarter</th>\n",
       "      <th>Odd_Even</th>\n",
       "      <th></th>\n",
       "      <th></th>\n",
       "      <th></th>\n",
       "      <th></th>\n",
       "    </tr>\n",
       "  </thead>\n",
       "  <tbody>\n",
       "    <tr>\n",
       "      <th rowspan=\"2\" valign=\"top\">Q1</th>\n",
       "      <th>Even</th>\n",
       "      <td>0.388105</td>\n",
       "      <td>0.658706</td>\n",
       "      <td>2.429233</td>\n",
       "      <td>-0.452540</td>\n",
       "    </tr>\n",
       "    <tr>\n",
       "      <th>Odd</th>\n",
       "      <td>0.099430</td>\n",
       "      <td>-0.535553</td>\n",
       "      <td>-0.767623</td>\n",
       "      <td>-0.376594</td>\n",
       "    </tr>\n",
       "    <tr>\n",
       "      <th rowspan=\"2\" valign=\"top\">Q2</th>\n",
       "      <th>Even</th>\n",
       "      <td>-0.933730</td>\n",
       "      <td>0.512150</td>\n",
       "      <td>0.513027</td>\n",
       "      <td>0.557808</td>\n",
       "    </tr>\n",
       "    <tr>\n",
       "      <th>Odd</th>\n",
       "      <td>-0.279226</td>\n",
       "      <td>-1.285561</td>\n",
       "      <td>2.042679</td>\n",
       "      <td>0.368331</td>\n",
       "    </tr>\n",
       "    <tr>\n",
       "      <th rowspan=\"2\" valign=\"top\">Q3</th>\n",
       "      <th>Even</th>\n",
       "      <td>1.028970</td>\n",
       "      <td>-0.448993</td>\n",
       "      <td>0.808028</td>\n",
       "      <td>-0.087640</td>\n",
       "    </tr>\n",
       "    <tr>\n",
       "      <th>Odd</th>\n",
       "      <td>0.595342</td>\n",
       "      <td>0.048725</td>\n",
       "      <td>0.116595</td>\n",
       "      <td>-0.288146</td>\n",
       "    </tr>\n",
       "  </tbody>\n",
       "</table>\n",
       "</div>"
      ],
      "text/plain": [
       "                       No1       No2       No3       No4\n",
       "Quarter Odd_Even                                        \n",
       "Q1      Even      0.388105  0.658706  2.429233 -0.452540\n",
       "        Odd       0.099430 -0.535553 -0.767623 -0.376594\n",
       "Q2      Even     -0.933730  0.512150  0.513027  0.557808\n",
       "        Odd      -0.279226 -1.285561  2.042679  0.368331\n",
       "Q3      Even      1.028970 -0.448993  0.808028 -0.087640\n",
       "        Odd       0.595342  0.048725  0.116595 -0.288146"
      ]
     },
     "execution_count": 27,
     "metadata": {},
     "output_type": "execute_result"
    }
   ],
   "source": [
    "groups.mean()"
   ]
  },
  {
   "cell_type": "code",
   "execution_count": null,
   "metadata": {
    "collapsed": true
   },
   "outputs": [],
   "source": []
  },
  {
   "cell_type": "code",
   "execution_count": null,
   "metadata": {
    "collapsed": true
   },
   "outputs": [],
   "source": []
  },
  {
   "cell_type": "code",
   "execution_count": null,
   "metadata": {
    "collapsed": true
   },
   "outputs": [],
   "source": []
  }
 ],
 "metadata": {
  "anaconda-cloud": {},
  "kernelspec": {
   "display_name": "Python [conda root]",
   "language": "python",
   "name": "conda-root-py"
  },
  "language_info": {
   "codemirror_mode": {
    "name": "ipython",
    "version": 2
   },
   "file_extension": ".py",
   "mimetype": "text/x-python",
   "name": "python",
   "nbconvert_exporter": "python",
   "pygments_lexer": "ipython2",
   "version": "2.7.12"
  }
 },
 "nbformat": 4,
 "nbformat_minor": 1
}
